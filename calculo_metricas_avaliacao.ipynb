{
  "nbformat": 4,
  "nbformat_minor": 0,
  "metadata": {
    "colab": {
      "provenance": [],
      "authorship_tag": "ABX9TyNOKRJti6t0grhriY7Pv/Tk",
      "include_colab_link": true
    },
    "kernelspec": {
      "name": "python3",
      "display_name": "Python 3"
    },
    "language_info": {
      "name": "python"
    }
  },
  "cells": [
    {
      "cell_type": "markdown",
      "metadata": {
        "id": "view-in-github",
        "colab_type": "text"
      },
      "source": [
        "<a href=\"https://colab.research.google.com/github/AbnerSilvaBarbosa/DIO-IA/blob/main/calculo_metricas_avaliacao.ipynb\" target=\"_parent\"><img src=\"https://colab.research.google.com/assets/colab-badge.svg\" alt=\"Open In Colab\"/></a>"
      ]
    },
    {
      "cell_type": "code",
      "execution_count": 5,
      "metadata": {
        "id": "FOTIkRaPLyiu"
      },
      "outputs": [],
      "source": [
        "from sklearn.datasets import load_breast_cancer\n",
        "from sklearn.model_selection import train_test_split\n",
        "from sklearn.linear_model import LogisticRegression\n",
        "from sklearn.metrics import confusion_matrix\n",
        "import matplotlib.pyplot as plt\n",
        "import seaborn as sns\n",
        "\n",
        "# Carregar o dataset de câncer de mama\n",
        "data = load_breast_cancer()\n",
        "X = data.data\n",
        "y = data.target\n",
        "\n",
        "# Dividir os dados em conjunto de treino e teste\n",
        "X_train, X_test, y_train, y_test = train_test_split(X, y, test_size=0.2, random_state=42)\n",
        "\n",
        "# Treinar o modelo de regressão logística\n",
        "model = LogisticRegression(max_iter=10000)  # Aumentar o número de iterações para garantir a convergência\n",
        "model.fit(X_train, y_train)\n",
        "\n",
        "# Fazer previsões no conjunto de teste\n",
        "y_pred = model.predict(X_test)"
      ]
    },
    {
      "cell_type": "code",
      "source": [
        "conf_matrix = confusion_matrix(y_test, y_pred)"
      ],
      "metadata": {
        "id": "2wsJODr4MX8d"
      },
      "execution_count": 6,
      "outputs": []
    },
    {
      "cell_type": "code",
      "source": [
        "# Extrair Verdadeiros Positivos, Verdadeiros Negativos, Falsos Positivos e Falsos Negativos\n",
        "VN, FP, FN, VP = conf_matrix.ravel()"
      ],
      "metadata": {
        "id": "A1_t1JTbNTWl"
      },
      "execution_count": 8,
      "outputs": []
    },
    {
      "cell_type": "code",
      "source": [
        "# Calcular as métricas\n",
        "sensibilidade = VP / (VP + FN)\n",
        "especificidade = VN / (VN + FP)\n",
        "acuracia = (VP + VN) / (VP + VN + FP + FN)\n",
        "precisao = VP / (VP + FP)\n",
        "f_score = 2 * (precisao * sensibilidade) / (precisao + sensibilidade)\n",
        "\n",
        "# Exibir as métricas\n",
        "print(f\"Sensibilidade: {sensibilidade:.2f}\")\n",
        "print(f\"Especificidade: {especificidade:.2f}\")\n",
        "print(f\"Acurácia: {acuracia:.2f}\")\n",
        "print(f\"Precisão: {precisao:.2f}\")\n",
        "print(f\"F-score: {f_score:.2f}\")"
      ],
      "metadata": {
        "id": "3NvyHyBINXp5",
        "outputId": "63a14a2a-2290-4a2b-ff9e-7f0600446d36",
        "colab": {
          "base_uri": "https://localhost:8080/"
        }
      },
      "execution_count": 9,
      "outputs": [
        {
          "output_type": "stream",
          "name": "stdout",
          "text": [
            "Sensibilidade: 0.99\n",
            "Especificidade: 0.91\n",
            "Acurácia: 0.96\n",
            "Precisão: 0.95\n",
            "F-score: 0.97\n"
          ]
        }
      ]
    },
    {
      "cell_type": "code",
      "source": [
        "# Plotar a matriz de confusão\n",
        "plt.figure(figsize=(6, 4))\n",
        "sns.heatmap(conf_matrix, annot=True, fmt='d', cmap='Blues', xticklabels=[0, 1], yticklabels=[0, 1])\n",
        "plt.xlabel('Predicted')\n",
        "plt.ylabel('Actual')\n",
        "plt.title('Confusion Matrix')\n",
        "plt.show()"
      ],
      "metadata": {
        "colab": {
          "base_uri": "https://localhost:8080/",
          "height": 410
        },
        "id": "GHgBHukzMb4F",
        "outputId": "5b04028a-6e85-490a-d7c4-0267c5864df9"
      },
      "execution_count": 7,
      "outputs": [
        {
          "output_type": "display_data",
          "data": {
            "text/plain": [
              "<Figure size 600x400 with 2 Axes>"
            ],
            "image/png": "[encoded data removed]"
          },
          "metadata": {}
        }
      ]
    }
  ]
}